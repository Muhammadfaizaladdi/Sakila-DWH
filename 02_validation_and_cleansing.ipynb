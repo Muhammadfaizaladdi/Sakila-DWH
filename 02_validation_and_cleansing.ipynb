{
 "cells": [
  {
   "cell_type": "code",
   "execution_count": 1,
   "id": "c928feeb-98ac-4096-8fec-ef70247c44e1",
   "metadata": {},
   "outputs": [],
   "source": [
    "import pandas as pd"
   ]
  },
  {
   "cell_type": "markdown",
   "id": "bebde99d-c51e-4c23-993c-205c6cfe7cae",
   "metadata": {},
   "source": [
    "### customer Data"
   ]
  },
  {
   "cell_type": "code",
   "execution_count": 2,
   "id": "0534492e-fddb-43a6-925a-c17cce5f3901",
   "metadata": {},
   "outputs": [
    {
     "data": {
      "text/html": [
       "<div>\n",
       "<style scoped>\n",
       "    .dataframe tbody tr th:only-of-type {\n",
       "        vertical-align: middle;\n",
       "    }\n",
       "\n",
       "    .dataframe tbody tr th {\n",
       "        vertical-align: top;\n",
       "    }\n",
       "\n",
       "    .dataframe thead th {\n",
       "        text-align: right;\n",
       "    }\n",
       "</style>\n",
       "<table border=\"1\" class=\"dataframe\">\n",
       "  <thead>\n",
       "    <tr style=\"text-align: right;\">\n",
       "      <th></th>\n",
       "      <th>customer_id</th>\n",
       "      <th>full_name</th>\n",
       "      <th>is_active</th>\n",
       "      <th>address</th>\n",
       "      <th>district</th>\n",
       "      <th>city</th>\n",
       "      <th>country</th>\n",
       "      <th>valid_from</th>\n",
       "    </tr>\n",
       "  </thead>\n",
       "  <tbody>\n",
       "    <tr>\n",
       "      <th>0</th>\n",
       "      <td>218</td>\n",
       "      <td>VERA MCCOY</td>\n",
       "      <td>Yes</td>\n",
       "      <td>1168 Najafabad Parkway</td>\n",
       "      <td>Kabol</td>\n",
       "      <td>Kabul</td>\n",
       "      <td>Afghanistan</td>\n",
       "      <td>2006-02-14 22:04:36</td>\n",
       "    </tr>\n",
       "    <tr>\n",
       "      <th>1</th>\n",
       "      <td>441</td>\n",
       "      <td>MARIO CHEATHAM</td>\n",
       "      <td>Yes</td>\n",
       "      <td>1924 Shimonoseki Drive</td>\n",
       "      <td>Batna</td>\n",
       "      <td>Batna</td>\n",
       "      <td>Algeria</td>\n",
       "      <td>2006-02-14 22:04:37</td>\n",
       "    </tr>\n",
       "    <tr>\n",
       "      <th>2</th>\n",
       "      <td>69</td>\n",
       "      <td>JUDY GRAY</td>\n",
       "      <td>Yes</td>\n",
       "      <td>1031 Daugavpils Parkway</td>\n",
       "      <td>Béchar</td>\n",
       "      <td>Béchar</td>\n",
       "      <td>Algeria</td>\n",
       "      <td>2006-02-14 22:04:36</td>\n",
       "    </tr>\n",
       "    <tr>\n",
       "      <th>3</th>\n",
       "      <td>176</td>\n",
       "      <td>JUNE CARROLL</td>\n",
       "      <td>Yes</td>\n",
       "      <td>757 Rustenburg Avenue</td>\n",
       "      <td>Skikda</td>\n",
       "      <td>Skikda</td>\n",
       "      <td>Algeria</td>\n",
       "      <td>2006-02-14 22:04:36</td>\n",
       "    </tr>\n",
       "    <tr>\n",
       "      <th>4</th>\n",
       "      <td>320</td>\n",
       "      <td>ANTHONY SCHWAB</td>\n",
       "      <td>Yes</td>\n",
       "      <td>1892 Nabereznyje Telny Lane</td>\n",
       "      <td>Tutuila</td>\n",
       "      <td>Tafuna</td>\n",
       "      <td>American Samoa</td>\n",
       "      <td>2006-02-14 22:04:37</td>\n",
       "    </tr>\n",
       "  </tbody>\n",
       "</table>\n",
       "</div>"
      ],
      "text/plain": [
       "   customer_id       full_name is_active                      address  \\\n",
       "0          218      VERA MCCOY       Yes       1168 Najafabad Parkway   \n",
       "1          441  MARIO CHEATHAM       Yes       1924 Shimonoseki Drive   \n",
       "2           69       JUDY GRAY       Yes      1031 Daugavpils Parkway   \n",
       "3          176    JUNE CARROLL       Yes        757 Rustenburg Avenue   \n",
       "4          320  ANTHONY SCHWAB       Yes  1892 Nabereznyje Telny Lane   \n",
       "\n",
       "  district    city         country           valid_from  \n",
       "0    Kabol   Kabul     Afghanistan  2006-02-14 22:04:36  \n",
       "1    Batna   Batna         Algeria  2006-02-14 22:04:37  \n",
       "2   Béchar  Béchar         Algeria  2006-02-14 22:04:36  \n",
       "3   Skikda  Skikda         Algeria  2006-02-14 22:04:36  \n",
       "4  Tutuila  Tafuna  American Samoa  2006-02-14 22:04:37  "
      ]
     },
     "execution_count": 2,
     "metadata": {},
     "output_type": "execute_result"
    }
   ],
   "source": [
    "cust_data = pd.read_csv(\"log_data/customer_extract.csv\")\n",
    "cust_data.head()"
   ]
  },
  {
   "cell_type": "code",
   "execution_count": 4,
   "id": "c1b24d79-20aa-46a1-bfc4-111ae238f928",
   "metadata": {},
   "outputs": [
    {
     "name": "stdout",
     "output_type": "stream",
     "text": [
      "<class 'pandas.core.frame.DataFrame'>\n",
      "RangeIndex: 599 entries, 0 to 598\n",
      "Data columns (total 8 columns):\n",
      " #   Column       Non-Null Count  Dtype \n",
      "---  ------       --------------  ----- \n",
      " 0   customer_id  599 non-null    int64 \n",
      " 1   full_name    599 non-null    object\n",
      " 2   is_active    599 non-null    object\n",
      " 3   address      599 non-null    object\n",
      " 4   district     596 non-null    object\n",
      " 5   city         599 non-null    object\n",
      " 6   country      599 non-null    object\n",
      " 7   valid_from   599 non-null    object\n",
      "dtypes: int64(1), object(7)\n",
      "memory usage: 37.6+ KB\n"
     ]
    }
   ],
   "source": [
    "cust_data.info()"
   ]
  },
  {
   "cell_type": "markdown",
   "id": "07e62bd7-43b2-4aec-bd93-c191e66e5a5f",
   "metadata": {},
   "source": [
    "##### cek nan value"
   ]
  },
  {
   "cell_type": "code",
   "execution_count": 5,
   "id": "9ea8f1fb-9fc5-49fa-a257-a4cdce5909d0",
   "metadata": {},
   "outputs": [
    {
     "data": {
      "text/plain": [
       "customer_id    0\n",
       "full_name      0\n",
       "is_active      0\n",
       "address        0\n",
       "district       3\n",
       "city           0\n",
       "country        0\n",
       "valid_from     0\n",
       "dtype: int64"
      ]
     },
     "execution_count": 5,
     "metadata": {},
     "output_type": "execute_result"
    }
   ],
   "source": [
    "cust_data.isna().sum()"
   ]
  },
  {
   "cell_type": "code",
   "execution_count": 15,
   "id": "ac1f0664-99ae-43b9-89e7-1159cb881a8f",
   "metadata": {},
   "outputs": [
    {
     "data": {
      "text/html": [
       "<div>\n",
       "<style scoped>\n",
       "    .dataframe tbody tr th:only-of-type {\n",
       "        vertical-align: middle;\n",
       "    }\n",
       "\n",
       "    .dataframe tbody tr th {\n",
       "        vertical-align: top;\n",
       "    }\n",
       "\n",
       "    .dataframe thead th {\n",
       "        text-align: right;\n",
       "    }\n",
       "</style>\n",
       "<table border=\"1\" class=\"dataframe\">\n",
       "  <thead>\n",
       "    <tr style=\"text-align: right;\">\n",
       "      <th></th>\n",
       "      <th>customer_id</th>\n",
       "      <th>full_name</th>\n",
       "      <th>is_active</th>\n",
       "      <th>address</th>\n",
       "      <th>district</th>\n",
       "      <th>city</th>\n",
       "      <th>country</th>\n",
       "      <th>valid_from</th>\n",
       "    </tr>\n",
       "  </thead>\n",
       "  <tbody>\n",
       "    <tr>\n",
       "      <th>7</th>\n",
       "      <td>381</td>\n",
       "      <td>BOBBY BOUDREAU</td>\n",
       "      <td>Yes</td>\n",
       "      <td>1368 Maracabo Boulevard</td>\n",
       "      <td>NaN</td>\n",
       "      <td>South Hill</td>\n",
       "      <td>Anguilla</td>\n",
       "      <td>2006-02-14 22:04:37</td>\n",
       "    </tr>\n",
       "    <tr>\n",
       "      <th>175</th>\n",
       "      <td>26</td>\n",
       "      <td>JESSICA HALL</td>\n",
       "      <td>Yes</td>\n",
       "      <td>18 Duisburg Boulevard</td>\n",
       "      <td>NaN</td>\n",
       "      <td>Città del Vaticano</td>\n",
       "      <td>Holy See (Vatican City State)</td>\n",
       "      <td>2006-02-14 22:04:36</td>\n",
       "    </tr>\n",
       "    <tr>\n",
       "      <th>356</th>\n",
       "      <td>513</td>\n",
       "      <td>DUANE TUBBS</td>\n",
       "      <td>Yes</td>\n",
       "      <td>962 Tama Loop</td>\n",
       "      <td>NaN</td>\n",
       "      <td>Yangor</td>\n",
       "      <td>Nauru</td>\n",
       "      <td>2006-02-14 22:04:37</td>\n",
       "    </tr>\n",
       "  </tbody>\n",
       "</table>\n",
       "</div>"
      ],
      "text/plain": [
       "     customer_id       full_name is_active                  address district  \\\n",
       "7            381  BOBBY BOUDREAU       Yes  1368 Maracabo Boulevard      NaN   \n",
       "175           26    JESSICA HALL       Yes    18 Duisburg Boulevard      NaN   \n",
       "356          513     DUANE TUBBS       Yes            962 Tama Loop      NaN   \n",
       "\n",
       "                   city                        country           valid_from  \n",
       "7            South Hill                       Anguilla  2006-02-14 22:04:37  \n",
       "175  Città del Vaticano  Holy See (Vatican City State)  2006-02-14 22:04:36  \n",
       "356              Yangor                          Nauru  2006-02-14 22:04:37  "
      ]
     },
     "execution_count": 15,
     "metadata": {},
     "output_type": "execute_result"
    }
   ],
   "source": [
    "cust_data[cust_data.district.isna()]"
   ]
  },
  {
   "cell_type": "markdown",
   "id": "cc1ee594-6caa-4d4a-9eca-39eb30d1d30c",
   "metadata": {},
   "source": [
    "customer 381"
   ]
  },
  {
   "cell_type": "code",
   "execution_count": 16,
   "id": "8e73e692-f6da-4b8e-bade-a1f11de3de2c",
   "metadata": {},
   "outputs": [
    {
     "data": {
      "text/html": [
       "<div>\n",
       "<style scoped>\n",
       "    .dataframe tbody tr th:only-of-type {\n",
       "        vertical-align: middle;\n",
       "    }\n",
       "\n",
       "    .dataframe tbody tr th {\n",
       "        vertical-align: top;\n",
       "    }\n",
       "\n",
       "    .dataframe thead th {\n",
       "        text-align: right;\n",
       "    }\n",
       "</style>\n",
       "<table border=\"1\" class=\"dataframe\">\n",
       "  <thead>\n",
       "    <tr style=\"text-align: right;\">\n",
       "      <th></th>\n",
       "      <th>customer_id</th>\n",
       "      <th>full_name</th>\n",
       "      <th>is_active</th>\n",
       "      <th>address</th>\n",
       "      <th>district</th>\n",
       "      <th>city</th>\n",
       "      <th>country</th>\n",
       "      <th>valid_from</th>\n",
       "    </tr>\n",
       "  </thead>\n",
       "  <tbody>\n",
       "    <tr>\n",
       "      <th>7</th>\n",
       "      <td>381</td>\n",
       "      <td>BOBBY BOUDREAU</td>\n",
       "      <td>Yes</td>\n",
       "      <td>1368 Maracabo Boulevard</td>\n",
       "      <td>NaN</td>\n",
       "      <td>South Hill</td>\n",
       "      <td>Anguilla</td>\n",
       "      <td>2006-02-14 22:04:37</td>\n",
       "    </tr>\n",
       "  </tbody>\n",
       "</table>\n",
       "</div>"
      ],
      "text/plain": [
       "   customer_id       full_name is_active                  address district  \\\n",
       "7          381  BOBBY BOUDREAU       Yes  1368 Maracabo Boulevard      NaN   \n",
       "\n",
       "         city   country           valid_from  \n",
       "7  South Hill  Anguilla  2006-02-14 22:04:37  "
      ]
     },
     "execution_count": 16,
     "metadata": {},
     "output_type": "execute_result"
    }
   ],
   "source": [
    "cust_data[cust_data[\"city\"]==\"South Hill\"]"
   ]
  },
  {
   "cell_type": "code",
   "execution_count": 17,
   "id": "5b2af10a-b7c8-4d10-9281-592aa6ed33c5",
   "metadata": {},
   "outputs": [
    {
     "data": {
      "text/html": [
       "<div>\n",
       "<style scoped>\n",
       "    .dataframe tbody tr th:only-of-type {\n",
       "        vertical-align: middle;\n",
       "    }\n",
       "\n",
       "    .dataframe tbody tr th {\n",
       "        vertical-align: top;\n",
       "    }\n",
       "\n",
       "    .dataframe thead th {\n",
       "        text-align: right;\n",
       "    }\n",
       "</style>\n",
       "<table border=\"1\" class=\"dataframe\">\n",
       "  <thead>\n",
       "    <tr style=\"text-align: right;\">\n",
       "      <th></th>\n",
       "      <th>customer_id</th>\n",
       "      <th>full_name</th>\n",
       "      <th>is_active</th>\n",
       "      <th>address</th>\n",
       "      <th>district</th>\n",
       "      <th>city</th>\n",
       "      <th>country</th>\n",
       "      <th>valid_from</th>\n",
       "    </tr>\n",
       "  </thead>\n",
       "  <tbody>\n",
       "    <tr>\n",
       "      <th>7</th>\n",
       "      <td>381</td>\n",
       "      <td>BOBBY BOUDREAU</td>\n",
       "      <td>Yes</td>\n",
       "      <td>1368 Maracabo Boulevard</td>\n",
       "      <td>NaN</td>\n",
       "      <td>South Hill</td>\n",
       "      <td>Anguilla</td>\n",
       "      <td>2006-02-14 22:04:37</td>\n",
       "    </tr>\n",
       "  </tbody>\n",
       "</table>\n",
       "</div>"
      ],
      "text/plain": [
       "   customer_id       full_name is_active                  address district  \\\n",
       "7          381  BOBBY BOUDREAU       Yes  1368 Maracabo Boulevard      NaN   \n",
       "\n",
       "         city   country           valid_from  \n",
       "7  South Hill  Anguilla  2006-02-14 22:04:37  "
      ]
     },
     "execution_count": 17,
     "metadata": {},
     "output_type": "execute_result"
    }
   ],
   "source": [
    "cust_data[cust_data[\"country\"]==\"Anguilla\"]"
   ]
  },
  {
   "cell_type": "markdown",
   "id": "b25471b3-1058-4da6-83a6-9f10bea22eb1",
   "metadata": {},
   "source": [
    "customer 26"
   ]
  },
  {
   "cell_type": "code",
   "execution_count": 19,
   "id": "af4bdb88-a3db-46e0-8bd8-bf1f24e83f0c",
   "metadata": {},
   "outputs": [
    {
     "data": {
      "text/html": [
       "<div>\n",
       "<style scoped>\n",
       "    .dataframe tbody tr th:only-of-type {\n",
       "        vertical-align: middle;\n",
       "    }\n",
       "\n",
       "    .dataframe tbody tr th {\n",
       "        vertical-align: top;\n",
       "    }\n",
       "\n",
       "    .dataframe thead th {\n",
       "        text-align: right;\n",
       "    }\n",
       "</style>\n",
       "<table border=\"1\" class=\"dataframe\">\n",
       "  <thead>\n",
       "    <tr style=\"text-align: right;\">\n",
       "      <th></th>\n",
       "      <th>customer_id</th>\n",
       "      <th>full_name</th>\n",
       "      <th>is_active</th>\n",
       "      <th>address</th>\n",
       "      <th>district</th>\n",
       "      <th>city</th>\n",
       "      <th>country</th>\n",
       "      <th>valid_from</th>\n",
       "    </tr>\n",
       "  </thead>\n",
       "  <tbody>\n",
       "    <tr>\n",
       "      <th>175</th>\n",
       "      <td>26</td>\n",
       "      <td>JESSICA HALL</td>\n",
       "      <td>Yes</td>\n",
       "      <td>18 Duisburg Boulevard</td>\n",
       "      <td>NaN</td>\n",
       "      <td>Città del Vaticano</td>\n",
       "      <td>Holy See (Vatican City State)</td>\n",
       "      <td>2006-02-14 22:04:36</td>\n",
       "    </tr>\n",
       "  </tbody>\n",
       "</table>\n",
       "</div>"
      ],
      "text/plain": [
       "     customer_id     full_name is_active                address district  \\\n",
       "175           26  JESSICA HALL       Yes  18 Duisburg Boulevard      NaN   \n",
       "\n",
       "                   city                        country           valid_from  \n",
       "175  Città del Vaticano  Holy See (Vatican City State)  2006-02-14 22:04:36  "
      ]
     },
     "execution_count": 19,
     "metadata": {},
     "output_type": "execute_result"
    }
   ],
   "source": [
    "cust_data[cust_data[\"city\"]==\"Città del Vaticano\"]"
   ]
  },
  {
   "cell_type": "code",
   "execution_count": 20,
   "id": "4da1178c-065a-464e-96e8-701021ad19d8",
   "metadata": {},
   "outputs": [
    {
     "data": {
      "text/html": [
       "<div>\n",
       "<style scoped>\n",
       "    .dataframe tbody tr th:only-of-type {\n",
       "        vertical-align: middle;\n",
       "    }\n",
       "\n",
       "    .dataframe tbody tr th {\n",
       "        vertical-align: top;\n",
       "    }\n",
       "\n",
       "    .dataframe thead th {\n",
       "        text-align: right;\n",
       "    }\n",
       "</style>\n",
       "<table border=\"1\" class=\"dataframe\">\n",
       "  <thead>\n",
       "    <tr style=\"text-align: right;\">\n",
       "      <th></th>\n",
       "      <th>customer_id</th>\n",
       "      <th>full_name</th>\n",
       "      <th>is_active</th>\n",
       "      <th>address</th>\n",
       "      <th>district</th>\n",
       "      <th>city</th>\n",
       "      <th>country</th>\n",
       "      <th>valid_from</th>\n",
       "    </tr>\n",
       "  </thead>\n",
       "  <tbody>\n",
       "    <tr>\n",
       "      <th>175</th>\n",
       "      <td>26</td>\n",
       "      <td>JESSICA HALL</td>\n",
       "      <td>Yes</td>\n",
       "      <td>18 Duisburg Boulevard</td>\n",
       "      <td>NaN</td>\n",
       "      <td>Città del Vaticano</td>\n",
       "      <td>Holy See (Vatican City State)</td>\n",
       "      <td>2006-02-14 22:04:36</td>\n",
       "    </tr>\n",
       "  </tbody>\n",
       "</table>\n",
       "</div>"
      ],
      "text/plain": [
       "     customer_id     full_name is_active                address district  \\\n",
       "175           26  JESSICA HALL       Yes  18 Duisburg Boulevard      NaN   \n",
       "\n",
       "                   city                        country           valid_from  \n",
       "175  Città del Vaticano  Holy See (Vatican City State)  2006-02-14 22:04:36  "
      ]
     },
     "execution_count": 20,
     "metadata": {},
     "output_type": "execute_result"
    }
   ],
   "source": [
    "cust_data[cust_data[\"country\"]==\"Holy See (Vatican City State)\"]"
   ]
  },
  {
   "cell_type": "markdown",
   "id": "efd88151-e535-4735-9d90-6c73af251cf2",
   "metadata": {},
   "source": [
    "customer 513"
   ]
  },
  {
   "cell_type": "code",
   "execution_count": 21,
   "id": "7a1c0a2a-7982-41d0-9b6b-8a1b0968a76c",
   "metadata": {},
   "outputs": [
    {
     "data": {
      "text/html": [
       "<div>\n",
       "<style scoped>\n",
       "    .dataframe tbody tr th:only-of-type {\n",
       "        vertical-align: middle;\n",
       "    }\n",
       "\n",
       "    .dataframe tbody tr th {\n",
       "        vertical-align: top;\n",
       "    }\n",
       "\n",
       "    .dataframe thead th {\n",
       "        text-align: right;\n",
       "    }\n",
       "</style>\n",
       "<table border=\"1\" class=\"dataframe\">\n",
       "  <thead>\n",
       "    <tr style=\"text-align: right;\">\n",
       "      <th></th>\n",
       "      <th>customer_id</th>\n",
       "      <th>full_name</th>\n",
       "      <th>is_active</th>\n",
       "      <th>address</th>\n",
       "      <th>district</th>\n",
       "      <th>city</th>\n",
       "      <th>country</th>\n",
       "      <th>valid_from</th>\n",
       "    </tr>\n",
       "  </thead>\n",
       "  <tbody>\n",
       "    <tr>\n",
       "      <th>356</th>\n",
       "      <td>513</td>\n",
       "      <td>DUANE TUBBS</td>\n",
       "      <td>Yes</td>\n",
       "      <td>962 Tama Loop</td>\n",
       "      <td>NaN</td>\n",
       "      <td>Yangor</td>\n",
       "      <td>Nauru</td>\n",
       "      <td>2006-02-14 22:04:37</td>\n",
       "    </tr>\n",
       "  </tbody>\n",
       "</table>\n",
       "</div>"
      ],
      "text/plain": [
       "     customer_id    full_name is_active        address district    city  \\\n",
       "356          513  DUANE TUBBS       Yes  962 Tama Loop      NaN  Yangor   \n",
       "\n",
       "    country           valid_from  \n",
       "356   Nauru  2006-02-14 22:04:37  "
      ]
     },
     "execution_count": 21,
     "metadata": {},
     "output_type": "execute_result"
    }
   ],
   "source": [
    "cust_data[cust_data[\"city\"]==\"Yangor\"]"
   ]
  },
  {
   "cell_type": "code",
   "execution_count": 22,
   "id": "49d04777-b16d-4a80-afba-51023efdf7e5",
   "metadata": {},
   "outputs": [
    {
     "data": {
      "text/html": [
       "<div>\n",
       "<style scoped>\n",
       "    .dataframe tbody tr th:only-of-type {\n",
       "        vertical-align: middle;\n",
       "    }\n",
       "\n",
       "    .dataframe tbody tr th {\n",
       "        vertical-align: top;\n",
       "    }\n",
       "\n",
       "    .dataframe thead th {\n",
       "        text-align: right;\n",
       "    }\n",
       "</style>\n",
       "<table border=\"1\" class=\"dataframe\">\n",
       "  <thead>\n",
       "    <tr style=\"text-align: right;\">\n",
       "      <th></th>\n",
       "      <th>customer_id</th>\n",
       "      <th>full_name</th>\n",
       "      <th>is_active</th>\n",
       "      <th>address</th>\n",
       "      <th>district</th>\n",
       "      <th>city</th>\n",
       "      <th>country</th>\n",
       "      <th>valid_from</th>\n",
       "    </tr>\n",
       "  </thead>\n",
       "  <tbody>\n",
       "    <tr>\n",
       "      <th>356</th>\n",
       "      <td>513</td>\n",
       "      <td>DUANE TUBBS</td>\n",
       "      <td>Yes</td>\n",
       "      <td>962 Tama Loop</td>\n",
       "      <td>NaN</td>\n",
       "      <td>Yangor</td>\n",
       "      <td>Nauru</td>\n",
       "      <td>2006-02-14 22:04:37</td>\n",
       "    </tr>\n",
       "  </tbody>\n",
       "</table>\n",
       "</div>"
      ],
      "text/plain": [
       "     customer_id    full_name is_active        address district    city  \\\n",
       "356          513  DUANE TUBBS       Yes  962 Tama Loop      NaN  Yangor   \n",
       "\n",
       "    country           valid_from  \n",
       "356   Nauru  2006-02-14 22:04:37  "
      ]
     },
     "execution_count": 22,
     "metadata": {},
     "output_type": "execute_result"
    }
   ],
   "source": [
    "cust_data[cust_data[\"country\"]==\"Nauru\"]"
   ]
  },
  {
   "cell_type": "markdown",
   "id": "87a26cd3-b882-4963-940f-b516ebe779c4",
   "metadata": {},
   "source": [
    "##### Cek Duplicate Data"
   ]
  },
  {
   "cell_type": "code",
   "execution_count": 7,
   "id": "cb3a0ae7-6f93-4a7d-ad46-52f5d9ab204f",
   "metadata": {},
   "outputs": [
    {
     "data": {
      "text/plain": [
       "0"
      ]
     },
     "execution_count": 7,
     "metadata": {},
     "output_type": "execute_result"
    }
   ],
   "source": [
    "cust_data.duplicated().sum()"
   ]
  },
  {
   "cell_type": "markdown",
   "id": "3713328b-9440-4e4c-a83a-5ad5aff5a0b1",
   "metadata": {},
   "source": [
    "##### Datetime data"
   ]
  },
  {
   "cell_type": "code",
   "execution_count": 8,
   "id": "7976d58f-18f3-43cb-98db-fe6b6876009e",
   "metadata": {},
   "outputs": [
    {
     "data": {
      "text/plain": [
       "0     2006-02-14 22:04:36\n",
       "1     2006-02-14 22:04:37\n",
       "2     2006-02-14 22:04:36\n",
       "3     2006-02-14 22:04:36\n",
       "4     2006-02-14 22:04:37\n",
       "              ...        \n",
       "594   2006-02-14 22:04:37\n",
       "595   2006-02-14 22:04:36\n",
       "596   2006-02-14 22:04:36\n",
       "597   2006-02-14 22:04:37\n",
       "598   2006-02-14 22:04:37\n",
       "Name: valid_from, Length: 599, dtype: datetime64[ns]"
      ]
     },
     "execution_count": 8,
     "metadata": {},
     "output_type": "execute_result"
    }
   ],
   "source": [
    "pd.to_datetime(cust_data.valid_from)"
   ]
  },
  {
   "cell_type": "markdown",
   "id": "02ba3fbf-d76c-4539-8359-85c9b63abf6d",
   "metadata": {},
   "source": [
    "##### Cek Konsistensi District, city, country"
   ]
  },
  {
   "cell_type": "code",
   "execution_count": 29,
   "id": "96ff767b-b905-4a55-bf05-de5b524b8e8c",
   "metadata": {},
   "outputs": [],
   "source": [
    "# print(cust_data.district.value_counts().sort_index().to_string())"
   ]
  },
  {
   "cell_type": "code",
   "execution_count": 30,
   "id": "9399c9db-31ac-412e-8d3f-eedad877f6bf",
   "metadata": {},
   "outputs": [],
   "source": [
    "# print(cust_data.city.value_counts().sort_index().to_string())"
   ]
  },
  {
   "cell_type": "code",
   "execution_count": 28,
   "id": "d6c774d3-11ee-4e91-aa86-76fe327f7249",
   "metadata": {},
   "outputs": [],
   "source": [
    "#print(cust_data.country.value_counts().sort_index().to_string())"
   ]
  },
  {
   "cell_type": "markdown",
   "id": "4a8c9c6a-dc06-4aac-9732-f7c9ce73d202",
   "metadata": {},
   "source": [
    "##### Task customer data"
   ]
  },
  {
   "cell_type": "markdown",
   "id": "8c5749a9-0002-4a9f-9981-11489788417b",
   "metadata": {},
   "source": [
    "- replace nan with unknown\n",
    "- Parsing dates"
   ]
  },
  {
   "cell_type": "code",
   "execution_count": 31,
   "id": "6d95208a-3da1-4590-bcad-cfd4413ac9c5",
   "metadata": {},
   "outputs": [],
   "source": [
    "replace_nan = \"unknown\"\n",
    "cust_data.district.fillna(replace_nan, inplace=True)"
   ]
  },
  {
   "cell_type": "code",
   "execution_count": 32,
   "id": "47858aaf-d4d2-4841-84e8-a40b3884a191",
   "metadata": {},
   "outputs": [
    {
     "data": {
      "text/plain": [
       "customer_id    0\n",
       "full_name      0\n",
       "is_active      0\n",
       "address        0\n",
       "district       0\n",
       "city           0\n",
       "country        0\n",
       "valid_from     0\n",
       "dtype: int64"
      ]
     },
     "execution_count": 32,
     "metadata": {},
     "output_type": "execute_result"
    }
   ],
   "source": [
    "cust_data.isna().sum()"
   ]
  },
  {
   "cell_type": "code",
   "execution_count": 33,
   "id": "1a20e587-9cdc-4d17-acf1-60c1ec99088e",
   "metadata": {},
   "outputs": [],
   "source": [
    "cust_data.valid_from = pd.to_datetime(cust_data.valid_from)"
   ]
  },
  {
   "cell_type": "code",
   "execution_count": 34,
   "id": "b357abd7-8397-4674-b131-bb2bf9312124",
   "metadata": {},
   "outputs": [
    {
     "name": "stdout",
     "output_type": "stream",
     "text": [
      "<class 'pandas.core.frame.DataFrame'>\n",
      "RangeIndex: 599 entries, 0 to 598\n",
      "Data columns (total 8 columns):\n",
      " #   Column       Non-Null Count  Dtype         \n",
      "---  ------       --------------  -----         \n",
      " 0   customer_id  599 non-null    int64         \n",
      " 1   full_name    599 non-null    object        \n",
      " 2   is_active    599 non-null    object        \n",
      " 3   address      599 non-null    object        \n",
      " 4   district     599 non-null    object        \n",
      " 5   city         599 non-null    object        \n",
      " 6   country      599 non-null    object        \n",
      " 7   valid_from   599 non-null    datetime64[ns]\n",
      "dtypes: datetime64[ns](1), int64(1), object(6)\n",
      "memory usage: 37.6+ KB\n"
     ]
    }
   ],
   "source": [
    "cust_data.info()"
   ]
  },
  {
   "cell_type": "markdown",
   "id": "8bdb4726-78cc-4f06-be70-9b667e1b78fb",
   "metadata": {},
   "source": [
    "### Store Data"
   ]
  },
  {
   "cell_type": "code",
   "execution_count": 35,
   "id": "4597db97-c948-4bac-9a84-6ac6bd31974e",
   "metadata": {},
   "outputs": [
    {
     "data": {
      "text/html": [
       "<div>\n",
       "<style scoped>\n",
       "    .dataframe tbody tr th:only-of-type {\n",
       "        vertical-align: middle;\n",
       "    }\n",
       "\n",
       "    .dataframe tbody tr th {\n",
       "        vertical-align: top;\n",
       "    }\n",
       "\n",
       "    .dataframe thead th {\n",
       "        text-align: right;\n",
       "    }\n",
       "</style>\n",
       "<table border=\"1\" class=\"dataframe\">\n",
       "  <thead>\n",
       "    <tr style=\"text-align: right;\">\n",
       "      <th></th>\n",
       "      <th>store_id</th>\n",
       "      <th>store_address</th>\n",
       "      <th>store_district</th>\n",
       "      <th>store_city</th>\n",
       "      <th>store_country</th>\n",
       "      <th>store_manager_id</th>\n",
       "      <th>store_manager_name</th>\n",
       "    </tr>\n",
       "  </thead>\n",
       "  <tbody>\n",
       "    <tr>\n",
       "      <th>0</th>\n",
       "      <td>1</td>\n",
       "      <td>47 MySakila Drive</td>\n",
       "      <td>Alberta</td>\n",
       "      <td>Lethbridge</td>\n",
       "      <td>Canada</td>\n",
       "      <td>1</td>\n",
       "      <td>Mike Hillyer</td>\n",
       "    </tr>\n",
       "    <tr>\n",
       "      <th>1</th>\n",
       "      <td>2</td>\n",
       "      <td>28 MySQL Boulevard</td>\n",
       "      <td>QLD</td>\n",
       "      <td>Woodridge</td>\n",
       "      <td>Australia</td>\n",
       "      <td>2</td>\n",
       "      <td>Jon Stephens</td>\n",
       "    </tr>\n",
       "  </tbody>\n",
       "</table>\n",
       "</div>"
      ],
      "text/plain": [
       "   store_id       store_address store_district  store_city store_country  \\\n",
       "0         1   47 MySakila Drive        Alberta  Lethbridge        Canada   \n",
       "1         2  28 MySQL Boulevard            QLD   Woodridge     Australia   \n",
       "\n",
       "   store_manager_id store_manager_name  \n",
       "0                 1       Mike Hillyer  \n",
       "1                 2       Jon Stephens  "
      ]
     },
     "execution_count": 35,
     "metadata": {},
     "output_type": "execute_result"
    }
   ],
   "source": [
    "store_data = pd.read_csv(\"log_data/store_extract.csv\")\n",
    "store_data.head()"
   ]
  },
  {
   "cell_type": "markdown",
   "id": "2701d204-0634-49a9-bae3-10a7279a56ee",
   "metadata": {},
   "source": [
    "#### Staff Data"
   ]
  },
  {
   "cell_type": "code",
   "execution_count": 36,
   "id": "13260617-139d-4c49-ab7f-b2d6b107df59",
   "metadata": {},
   "outputs": [
    {
     "data": {
      "text/html": [
       "<div>\n",
       "<style scoped>\n",
       "    .dataframe tbody tr th:only-of-type {\n",
       "        vertical-align: middle;\n",
       "    }\n",
       "\n",
       "    .dataframe tbody tr th {\n",
       "        vertical-align: top;\n",
       "    }\n",
       "\n",
       "    .dataframe thead th {\n",
       "        text-align: right;\n",
       "    }\n",
       "</style>\n",
       "<table border=\"1\" class=\"dataframe\">\n",
       "  <thead>\n",
       "    <tr style=\"text-align: right;\">\n",
       "      <th></th>\n",
       "      <th>staff_id</th>\n",
       "      <th>staff_name</th>\n",
       "      <th>staff_store_id</th>\n",
       "      <th>is_active</th>\n",
       "    </tr>\n",
       "  </thead>\n",
       "  <tbody>\n",
       "    <tr>\n",
       "      <th>0</th>\n",
       "      <td>1</td>\n",
       "      <td>Mike Hillyer</td>\n",
       "      <td>1</td>\n",
       "      <td>Yes</td>\n",
       "    </tr>\n",
       "    <tr>\n",
       "      <th>1</th>\n",
       "      <td>2</td>\n",
       "      <td>Jon Stephens</td>\n",
       "      <td>2</td>\n",
       "      <td>Yes</td>\n",
       "    </tr>\n",
       "  </tbody>\n",
       "</table>\n",
       "</div>"
      ],
      "text/plain": [
       "   staff_id    staff_name  staff_store_id is_active\n",
       "0         1  Mike Hillyer               1       Yes\n",
       "1         2  Jon Stephens               2       Yes"
      ]
     },
     "execution_count": 36,
     "metadata": {},
     "output_type": "execute_result"
    }
   ],
   "source": [
    "staff_data = pd.read_csv(\"log_data/staff_extract.csv\")\n",
    "staff_data.head()"
   ]
  },
  {
   "cell_type": "markdown",
   "id": "0aba54d3-a4f5-4a67-abd3-bad335fd92ef",
   "metadata": {},
   "source": [
    "#### FIlm Data"
   ]
  },
  {
   "cell_type": "code",
   "execution_count": 37,
   "id": "bc17b6b5-92ed-4741-b183-8c4576b24659",
   "metadata": {},
   "outputs": [
    {
     "data": {
      "text/html": [
       "<div>\n",
       "<style scoped>\n",
       "    .dataframe tbody tr th:only-of-type {\n",
       "        vertical-align: middle;\n",
       "    }\n",
       "\n",
       "    .dataframe tbody tr th {\n",
       "        vertical-align: top;\n",
       "    }\n",
       "\n",
       "    .dataframe thead th {\n",
       "        text-align: right;\n",
       "    }\n",
       "</style>\n",
       "<table border=\"1\" class=\"dataframe\">\n",
       "  <thead>\n",
       "    <tr style=\"text-align: right;\">\n",
       "      <th></th>\n",
       "      <th>title</th>\n",
       "      <th>description</th>\n",
       "      <th>release_year</th>\n",
       "      <th>language</th>\n",
       "      <th>rental_duration</th>\n",
       "      <th>rental_rate</th>\n",
       "      <th>duration</th>\n",
       "      <th>replacement_cost</th>\n",
       "      <th>rating</th>\n",
       "      <th>category</th>\n",
       "    </tr>\n",
       "  </thead>\n",
       "  <tbody>\n",
       "    <tr>\n",
       "      <th>0</th>\n",
       "      <td>AMADEUS HOLY</td>\n",
       "      <td>A Emotional Display of a Pioneer And a Technic...</td>\n",
       "      <td>2006</td>\n",
       "      <td>English</td>\n",
       "      <td>6</td>\n",
       "      <td>0.99</td>\n",
       "      <td>113</td>\n",
       "      <td>20.99</td>\n",
       "      <td>PG</td>\n",
       "      <td>Action</td>\n",
       "    </tr>\n",
       "    <tr>\n",
       "      <th>1</th>\n",
       "      <td>AMERICAN CIRCUS</td>\n",
       "      <td>A Insightful Drama of a Girl And a Astronaut w...</td>\n",
       "      <td>2006</td>\n",
       "      <td>English</td>\n",
       "      <td>3</td>\n",
       "      <td>4.99</td>\n",
       "      <td>129</td>\n",
       "      <td>17.99</td>\n",
       "      <td>R</td>\n",
       "      <td>Action</td>\n",
       "    </tr>\n",
       "    <tr>\n",
       "      <th>2</th>\n",
       "      <td>ANTITRUST TOMATOES</td>\n",
       "      <td>A Fateful Yarn of a Womanizer And a Feminist w...</td>\n",
       "      <td>2006</td>\n",
       "      <td>English</td>\n",
       "      <td>5</td>\n",
       "      <td>2.99</td>\n",
       "      <td>168</td>\n",
       "      <td>11.99</td>\n",
       "      <td>NC-17</td>\n",
       "      <td>Action</td>\n",
       "    </tr>\n",
       "    <tr>\n",
       "      <th>3</th>\n",
       "      <td>ARK RIDGEMONT</td>\n",
       "      <td>A Beautiful Yarn of a Pioneer And a Monkey who...</td>\n",
       "      <td>2006</td>\n",
       "      <td>English</td>\n",
       "      <td>6</td>\n",
       "      <td>0.99</td>\n",
       "      <td>68</td>\n",
       "      <td>25.99</td>\n",
       "      <td>NC-17</td>\n",
       "      <td>Action</td>\n",
       "    </tr>\n",
       "    <tr>\n",
       "      <th>4</th>\n",
       "      <td>BAREFOOT MANCHURIAN</td>\n",
       "      <td>A Intrepid Story of a Cat And a Student who mu...</td>\n",
       "      <td>2006</td>\n",
       "      <td>English</td>\n",
       "      <td>6</td>\n",
       "      <td>2.99</td>\n",
       "      <td>129</td>\n",
       "      <td>15.99</td>\n",
       "      <td>G</td>\n",
       "      <td>Action</td>\n",
       "    </tr>\n",
       "  </tbody>\n",
       "</table>\n",
       "</div>"
      ],
      "text/plain": [
       "                 title                                        description  \\\n",
       "0         AMADEUS HOLY  A Emotional Display of a Pioneer And a Technic...   \n",
       "1      AMERICAN CIRCUS  A Insightful Drama of a Girl And a Astronaut w...   \n",
       "2   ANTITRUST TOMATOES  A Fateful Yarn of a Womanizer And a Feminist w...   \n",
       "3        ARK RIDGEMONT  A Beautiful Yarn of a Pioneer And a Monkey who...   \n",
       "4  BAREFOOT MANCHURIAN  A Intrepid Story of a Cat And a Student who mu...   \n",
       "\n",
       "   release_year language  rental_duration  rental_rate  duration  \\\n",
       "0          2006  English                6         0.99       113   \n",
       "1          2006  English                3         4.99       129   \n",
       "2          2006  English                5         2.99       168   \n",
       "3          2006  English                6         0.99        68   \n",
       "4          2006  English                6         2.99       129   \n",
       "\n",
       "   replacement_cost rating category  \n",
       "0             20.99     PG   Action  \n",
       "1             17.99      R   Action  \n",
       "2             11.99  NC-17   Action  \n",
       "3             25.99  NC-17   Action  \n",
       "4             15.99      G   Action  "
      ]
     },
     "execution_count": 37,
     "metadata": {},
     "output_type": "execute_result"
    }
   ],
   "source": [
    "film_data = pd.read_csv(\"log_data/film_extract.csv\")\n",
    "film_data.head()"
   ]
  },
  {
   "cell_type": "code",
   "execution_count": 38,
   "id": "60a82bac-d8aa-42f4-8e65-4f7978fc0d65",
   "metadata": {},
   "outputs": [
    {
     "name": "stdout",
     "output_type": "stream",
     "text": [
      "<class 'pandas.core.frame.DataFrame'>\n",
      "RangeIndex: 1000 entries, 0 to 999\n",
      "Data columns (total 10 columns):\n",
      " #   Column            Non-Null Count  Dtype  \n",
      "---  ------            --------------  -----  \n",
      " 0   title             1000 non-null   object \n",
      " 1   description       1000 non-null   object \n",
      " 2   release_year      1000 non-null   int64  \n",
      " 3   language          1000 non-null   object \n",
      " 4   rental_duration   1000 non-null   int64  \n",
      " 5   rental_rate       1000 non-null   float64\n",
      " 6   duration          1000 non-null   int64  \n",
      " 7   replacement_cost  1000 non-null   float64\n",
      " 8   rating            1000 non-null   object \n",
      " 9   category          1000 non-null   object \n",
      "dtypes: float64(2), int64(3), object(5)\n",
      "memory usage: 78.2+ KB\n"
     ]
    }
   ],
   "source": [
    "film_data.info()"
   ]
  },
  {
   "cell_type": "markdown",
   "id": "c955ad30-6392-4a5b-9ddb-f87535ac979e",
   "metadata": {},
   "source": [
    "##### Cek nan data"
   ]
  },
  {
   "cell_type": "code",
   "execution_count": 39,
   "id": "34caf938-a864-4e06-bbdc-7ca5f753201d",
   "metadata": {},
   "outputs": [
    {
     "data": {
      "text/plain": [
       "title               0\n",
       "description         0\n",
       "release_year        0\n",
       "language            0\n",
       "rental_duration     0\n",
       "rental_rate         0\n",
       "duration            0\n",
       "replacement_cost    0\n",
       "rating              0\n",
       "category            0\n",
       "dtype: int64"
      ]
     },
     "execution_count": 39,
     "metadata": {},
     "output_type": "execute_result"
    }
   ],
   "source": [
    "film_data.isna().sum()"
   ]
  },
  {
   "cell_type": "markdown",
   "id": "f02bbb9c-5f4b-47b2-9d1f-e10e5be7633d",
   "metadata": {},
   "source": [
    "##### Cek Duplicate"
   ]
  },
  {
   "cell_type": "code",
   "execution_count": 41,
   "id": "75c7776d-fdb0-4dc1-bd11-dae3d954e736",
   "metadata": {},
   "outputs": [
    {
     "data": {
      "text/plain": [
       "0"
      ]
     },
     "execution_count": 41,
     "metadata": {},
     "output_type": "execute_result"
    }
   ],
   "source": [
    "film_data.duplicated().sum()"
   ]
  },
  {
   "cell_type": "markdown",
   "id": "fb5622db-6bb7-47ea-b140-759195faaa16",
   "metadata": {},
   "source": [
    "#### Rental data"
   ]
  },
  {
   "cell_type": "code",
   "execution_count": 2,
   "id": "b8d1c874-7adc-44cc-8d1c-1388fb7dec17",
   "metadata": {},
   "outputs": [],
   "source": [
    "import pandas as pd"
   ]
  },
  {
   "cell_type": "code",
   "execution_count": 4,
   "id": "bba78d57-82ef-4ef6-9091-3777fbb26493",
   "metadata": {},
   "outputs": [
    {
     "data": {
      "text/html": [
       "<div>\n",
       "<style scoped>\n",
       "    .dataframe tbody tr th:only-of-type {\n",
       "        vertical-align: middle;\n",
       "    }\n",
       "\n",
       "    .dataframe tbody tr th {\n",
       "        vertical-align: top;\n",
       "    }\n",
       "\n",
       "    .dataframe thead th {\n",
       "        text-align: right;\n",
       "    }\n",
       "</style>\n",
       "<table border=\"1\" class=\"dataframe\">\n",
       "  <thead>\n",
       "    <tr style=\"text-align: right;\">\n",
       "      <th></th>\n",
       "      <th>customer_id</th>\n",
       "      <th>staff_id</th>\n",
       "      <th>store_id</th>\n",
       "      <th>film_id</th>\n",
       "      <th>rental_date</th>\n",
       "      <th>rent_duration</th>\n",
       "      <th>amount</th>\n",
       "    </tr>\n",
       "  </thead>\n",
       "  <tbody>\n",
       "    <tr>\n",
       "      <th>0</th>\n",
       "      <td>431</td>\n",
       "      <td>2</td>\n",
       "      <td>1</td>\n",
       "      <td>1</td>\n",
       "      <td>2005-07-08 19:03:15</td>\n",
       "      <td>3.0</td>\n",
       "      <td>0.99</td>\n",
       "    </tr>\n",
       "    <tr>\n",
       "      <th>1</th>\n",
       "      <td>518</td>\n",
       "      <td>1</td>\n",
       "      <td>1</td>\n",
       "      <td>1</td>\n",
       "      <td>2005-08-02 20:13:10</td>\n",
       "      <td>9.0</td>\n",
       "      <td>3.99</td>\n",
       "    </tr>\n",
       "    <tr>\n",
       "      <th>2</th>\n",
       "      <td>279</td>\n",
       "      <td>1</td>\n",
       "      <td>1</td>\n",
       "      <td>1</td>\n",
       "      <td>2005-08-21 21:27:43</td>\n",
       "      <td>9.0</td>\n",
       "      <td>3.99</td>\n",
       "    </tr>\n",
       "    <tr>\n",
       "      <th>3</th>\n",
       "      <td>411</td>\n",
       "      <td>1</td>\n",
       "      <td>1</td>\n",
       "      <td>1</td>\n",
       "      <td>2005-05-30 20:21:07</td>\n",
       "      <td>7.0</td>\n",
       "      <td>1.99</td>\n",
       "    </tr>\n",
       "    <tr>\n",
       "      <th>4</th>\n",
       "      <td>170</td>\n",
       "      <td>2</td>\n",
       "      <td>1</td>\n",
       "      <td>1</td>\n",
       "      <td>2005-06-17 20:24:00</td>\n",
       "      <td>6.0</td>\n",
       "      <td>0.99</td>\n",
       "    </tr>\n",
       "    <tr>\n",
       "      <th>...</th>\n",
       "      <td>...</td>\n",
       "      <td>...</td>\n",
       "      <td>...</td>\n",
       "      <td>...</td>\n",
       "      <td>...</td>\n",
       "      <td>...</td>\n",
       "      <td>...</td>\n",
       "    </tr>\n",
       "    <tr>\n",
       "      <th>16039</th>\n",
       "      <td>215</td>\n",
       "      <td>2</td>\n",
       "      <td>2</td>\n",
       "      <td>1000</td>\n",
       "      <td>2005-05-29 03:49:03</td>\n",
       "      <td>2.0</td>\n",
       "      <td>4.99</td>\n",
       "    </tr>\n",
       "    <tr>\n",
       "      <th>16040</th>\n",
       "      <td>235</td>\n",
       "      <td>2</td>\n",
       "      <td>2</td>\n",
       "      <td>1000</td>\n",
       "      <td>2005-06-15 21:50:32</td>\n",
       "      <td>2.0</td>\n",
       "      <td>4.99</td>\n",
       "    </tr>\n",
       "    <tr>\n",
       "      <th>16041</th>\n",
       "      <td>226</td>\n",
       "      <td>2</td>\n",
       "      <td>2</td>\n",
       "      <td>1000</td>\n",
       "      <td>2005-07-12 13:24:47</td>\n",
       "      <td>8.0</td>\n",
       "      <td>9.99</td>\n",
       "    </tr>\n",
       "    <tr>\n",
       "      <th>16042</th>\n",
       "      <td>401</td>\n",
       "      <td>2</td>\n",
       "      <td>2</td>\n",
       "      <td>1000</td>\n",
       "      <td>2005-07-31 07:32:21</td>\n",
       "      <td>1.0</td>\n",
       "      <td>4.99</td>\n",
       "    </tr>\n",
       "    <tr>\n",
       "      <th>16043</th>\n",
       "      <td>541</td>\n",
       "      <td>2</td>\n",
       "      <td>2</td>\n",
       "      <td>1000</td>\n",
       "      <td>2005-08-19 03:49:28</td>\n",
       "      <td>6.0</td>\n",
       "      <td>7.99</td>\n",
       "    </tr>\n",
       "  </tbody>\n",
       "</table>\n",
       "<p>16044 rows × 7 columns</p>\n",
       "</div>"
      ],
      "text/plain": [
       "       customer_id  staff_id  store_id  film_id          rental_date  \\\n",
       "0              431         2         1        1  2005-07-08 19:03:15   \n",
       "1              518         1         1        1  2005-08-02 20:13:10   \n",
       "2              279         1         1        1  2005-08-21 21:27:43   \n",
       "3              411         1         1        1  2005-05-30 20:21:07   \n",
       "4              170         2         1        1  2005-06-17 20:24:00   \n",
       "...            ...       ...       ...      ...                  ...   \n",
       "16039          215         2         2     1000  2005-05-29 03:49:03   \n",
       "16040          235         2         2     1000  2005-06-15 21:50:32   \n",
       "16041          226         2         2     1000  2005-07-12 13:24:47   \n",
       "16042          401         2         2     1000  2005-07-31 07:32:21   \n",
       "16043          541         2         2     1000  2005-08-19 03:49:28   \n",
       "\n",
       "       rent_duration  amount  \n",
       "0                3.0    0.99  \n",
       "1                9.0    3.99  \n",
       "2                9.0    3.99  \n",
       "3                7.0    1.99  \n",
       "4                6.0    0.99  \n",
       "...              ...     ...  \n",
       "16039            2.0    4.99  \n",
       "16040            2.0    4.99  \n",
       "16041            8.0    9.99  \n",
       "16042            1.0    4.99  \n",
       "16043            6.0    7.99  \n",
       "\n",
       "[16044 rows x 7 columns]"
      ]
     },
     "execution_count": 4,
     "metadata": {},
     "output_type": "execute_result"
    }
   ],
   "source": [
    "data_rental = pd.read_csv(\"log_data/rental_extract.csv\")\n",
    "data_rental"
   ]
  },
  {
   "cell_type": "code",
   "execution_count": 11,
   "id": "28a262f3-17c6-422d-93df-ca8524b97927",
   "metadata": {},
   "outputs": [
    {
     "name": "stdout",
     "output_type": "stream",
     "text": [
      "<class 'pandas.core.frame.DataFrame'>\n",
      "RangeIndex: 16044 entries, 0 to 16043\n",
      "Data columns (total 7 columns):\n",
      " #   Column         Non-Null Count  Dtype  \n",
      "---  ------         --------------  -----  \n",
      " 0   customer_id    16044 non-null  int64  \n",
      " 1   staff_id       16044 non-null  int64  \n",
      " 2   store_id       16044 non-null  int64  \n",
      " 3   film_id        16044 non-null  int64  \n",
      " 4   rental_date    16044 non-null  object \n",
      " 5   rent_duration  15861 non-null  float64\n",
      " 6   amount         16044 non-null  float64\n",
      "dtypes: float64(2), int64(4), object(1)\n",
      "memory usage: 877.5+ KB\n"
     ]
    }
   ],
   "source": [
    "data_rental.info()"
   ]
  },
  {
   "cell_type": "code",
   "execution_count": 10,
   "id": "ba5d0fbb-7607-493c-b806-3bfffbf09b54",
   "metadata": {},
   "outputs": [
    {
     "data": {
      "text/plain": [
       "customer_id        0\n",
       "staff_id           0\n",
       "store_id           0\n",
       "film_id            0\n",
       "rental_date        0\n",
       "rent_duration    183\n",
       "amount             0\n",
       "dtype: int64"
      ]
     },
     "execution_count": 10,
     "metadata": {},
     "output_type": "execute_result"
    }
   ],
   "source": [
    "data_rental.isna().sum()"
   ]
  },
  {
   "cell_type": "markdown",
   "id": "d258c44e-833e-4747-b7e6-b80142e9f560",
   "metadata": {},
   "source": [
    "###### rent_duration yang kosong karena tidak dikembalikan (return_datenya kosong)"
   ]
  },
  {
   "cell_type": "code",
   "execution_count": 15,
   "id": "d09ed0bf-7bbf-4509-b2c2-0894a997a4fd",
   "metadata": {},
   "outputs": [
    {
     "data": {
      "text/plain": [
       "0"
      ]
     },
     "execution_count": 15,
     "metadata": {},
     "output_type": "execute_result"
    }
   ],
   "source": [
    "data_rental.duplicated().sum()"
   ]
  },
  {
   "cell_type": "markdown",
   "id": "00db8086-d2aa-451e-bd4f-82ffba8673e0",
   "metadata": {},
   "source": [
    "Rental Data Task:\n",
    "\n",
    "- parsing dates"
   ]
  },
  {
   "cell_type": "code",
   "execution_count": 16,
   "id": "1a3d8031-5cc4-4db3-be6c-68f09b4443b4",
   "metadata": {},
   "outputs": [
    {
     "name": "stdout",
     "output_type": "stream",
     "text": [
      "<class 'pandas.core.frame.DataFrame'>\n",
      "RangeIndex: 16044 entries, 0 to 16043\n",
      "Data columns (total 7 columns):\n",
      " #   Column         Non-Null Count  Dtype         \n",
      "---  ------         --------------  -----         \n",
      " 0   customer_id    16044 non-null  int64         \n",
      " 1   staff_id       16044 non-null  int64         \n",
      " 2   store_id       16044 non-null  int64         \n",
      " 3   film_id        16044 non-null  int64         \n",
      " 4   rental_date    16044 non-null  datetime64[ns]\n",
      " 5   rent_duration  15861 non-null  float64       \n",
      " 6   amount         16044 non-null  float64       \n",
      "dtypes: datetime64[ns](1), float64(2), int64(4)\n",
      "memory usage: 877.5 KB\n"
     ]
    }
   ],
   "source": [
    "data_rental.rental_date = pd.to_datetime(data_rental.rental_date)\n",
    "data_rental.info()"
   ]
  },
  {
   "cell_type": "code",
   "execution_count": 17,
   "id": "fdb3a5dd-5971-4125-a8d3-7d77b53fe017",
   "metadata": {},
   "outputs": [],
   "source": [
    "def clean_data(filename, list_task=None, list_column_to_clean=None, list_value_to_fill=None):\n",
    "    \n",
    "    df = read_data(filename)\n",
    "    \n",
    "    for i in range(len(list_task)):\n",
    "    \n",
    "        if task[i] == \"parse_date\":\n",
    "            df[list_column_to_clean[i]] = pd.to_datetime(df[list_column_to_clean[i]])\n",
    "\n",
    "        elif task[i] == \"handle_nan\":\n",
    "            df[list_column_to_clean[i]].fillna(list_column_to_clean[i], inplace=True)\n",
    "        \n",
    "    return df"
   ]
  },
  {
   "cell_type": "code",
   "execution_count": 18,
   "id": "f59381d3-46c6-4868-be6b-2526377f7a53",
   "metadata": {},
   "outputs": [],
   "source": [
    "def read_data(filename):\n",
    "    data = pd.read_csv(filename)\n",
    "    return data"
   ]
  },
  {
   "cell_type": "code",
   "execution_count": null,
   "id": "b33cc795-87bb-43e9-bd7c-5a236d5c1762",
   "metadata": {},
   "outputs": [],
   "source": []
  }
 ],
 "metadata": {
  "kernelspec": {
   "display_name": "Python 3 (ipykernel)",
   "language": "python",
   "name": "python3"
  },
  "language_info": {
   "codemirror_mode": {
    "name": "ipython",
    "version": 3
   },
   "file_extension": ".py",
   "mimetype": "text/x-python",
   "name": "python",
   "nbconvert_exporter": "python",
   "pygments_lexer": "ipython3",
   "version": "3.8.8"
  }
 },
 "nbformat": 4,
 "nbformat_minor": 5
}
